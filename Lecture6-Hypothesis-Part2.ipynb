{
 "cells": [
  {
   "cell_type": "markdown",
   "metadata": {},
   "source": [
    "# Lecture 6 - Hypothesis Testing - Part 2"
   ]
  },
  {
   "cell_type": "markdown",
   "metadata": {},
   "source": [
    "## One Sample T test\n",
    "\n",
    "We use a one sample T-test to determine whether our sample mean (observed average) is statistically significantly different to the population mean (expected average).\n",
    "\n"
   ]
  },
  {
   "cell_type": "markdown",
   "metadata": {},
   "source": [
    "### Example: We want to calculate the resting systolic blood pressure of 20 first-year resident female doctors and compare it to the general public population mean of 120 mmHg.\n",
    "*. Check the Python script below for the implementation."
   ]
  },
  {
   "cell_type": "markdown",
   "metadata": {},
   "source": [
    "#### The Null hypothesis would be:- \n",
    "“There is no significant difference ”.\n",
    "\n",
    "#### The alternate hypothesis would be:- \n",
    "“There is a statistically significant difference ”.\n"
   ]
  },
  {
   "cell_type": "code",
   "execution_count": 29,
   "metadata": {},
   "outputs": [],
   "source": [
    "from scipy import stats"
   ]
  },
  {
   "cell_type": "code",
   "execution_count": 30,
   "metadata": {},
   "outputs": [
    {
     "name": "stdout",
     "output_type": "stream",
     "text": [
      "130.05\n",
      "P-value is:  0.00023838063630967753\n",
      " We can reject the null hypothesis\n"
     ]
    }
   ],
   "source": [
    "from scipy.stats import ttest_1samp  \n",
    "import numpy as np  \n",
    "  \n",
    "# Creating a sample of ages  \n",
    "female_doctor_bps = [128, 127, 118, 115, 144, 142, 133, 140, 132, 131, \n",
    "                     111, 132, 149, 122, 139, 119, 136, 129, 126, 128]\n",
    "  \n",
    "# Calculating the mean of the sample  \n",
    "mean = np.mean(female_doctor_bps)  \n",
    "print(mean)  \n",
    "  \n",
    "# Performing the T-Test   \n",
    "t_test, p_val = ttest_1samp(female_doctor_bps, 120)  \n",
    "print(\"P-value is: \", p_val)  \n",
    "  \n",
    "# taking the threshold value as 0.05 or 5%  \n",
    "if p_val < 0.05:      \n",
    "    print(\" We can reject the null hypothesis\")  \n",
    "else:  \n",
    "    print(\"We fail to reject the null hypothesis\")  "
   ]
  },
  {
   "cell_type": "markdown",
   "metadata": {},
   "source": [
    "\"There is a statistically significant difference between the resting systolic blood pressure of the resident female doctors and the general population\"."
   ]
  },
  {
   "cell_type": "markdown",
   "metadata": {},
   "source": [
    "## Two Sampled T Test"
   ]
  },
  {
   "cell_type": "markdown",
   "metadata": {},
   "source": [
    "A two sample T-test is used to compare the means of two separate samples.\n",
    "\n"
   ]
  },
  {
   "cell_type": "markdown",
   "metadata": {},
   "source": [
    "## Example: can we check if there is a difference between the two data groups of people with blood pressure??"
   ]
  },
  {
   "cell_type": "markdown",
   "metadata": {},
   "source": [
    "#### The Null hypothesis would be:- \n",
    "“There is no significant difference between the blood pressures of male consultant doctors and junior resident female doctors”.\n",
    "\n",
    "#### The alternate hypothesis would be:- \n",
    "“There is a statistically significant difference between the blood pressures of male consultant doctors and junior resident female doctors”."
   ]
  },
  {
   "cell_type": "code",
   "execution_count": 31,
   "metadata": {},
   "outputs": [
    {
     "name": "stdout",
     "output_type": "stream",
     "text": [
      "Data group 1 mean value: 130.05\n",
      "Data group 2 mean value: 120.95\n",
      "Data group 1 std value: 9.708115162069308\n",
      "Data group 2 std value: 5.757386559889825\n",
      "The P-value is:  0.0011571376404026158\n",
      "We can reject the null hypothesis\n"
     ]
    }
   ],
   "source": [
    "from scipy.stats import ttest_ind  \n",
    "import numpy as np  \n",
    "  \n",
    "# Creating the data groups  \n",
    "data_group1 = np.array([128, 127, 118, 115, 144, 142, 133, 140, 132, 131, \n",
    "                     111, 132, 149, 122, 139, 119, 136, 129, 126, 128])  \n",
    "data_group2 = np.array([118, 115, 112, 120, 124, 130, 123, 110, 120, 121,\n",
    "                      123, 125, 129, 130, 112, 117, 119, 120, 123, 128])  \n",
    "  \n",
    "# Calculating the mean of the two data groups  \n",
    "mean1 = np.mean(data_group1)  \n",
    "mean2 = np.mean(data_group2)  \n",
    "  \n",
    "# Print mean values  \n",
    "print(\"Data group 1 mean value:\", mean1)  \n",
    "print(\"Data group 2 mean value:\", mean2)  \n",
    "  \n",
    "# Calculating standard deviation  \n",
    "std1 = np.std(data_group1)  \n",
    "std2 = np.std(data_group2)  \n",
    "  \n",
    "# Printing standard deviation values  \n",
    "print(\"Data group 1 std value:\", std1)  \n",
    "print(\"Data group 2 std value:\", std2)  \n",
    "  \n",
    "# Implementing the t-test  \n",
    "t_test,p_val = ttest_ind(data_group1, data_group2)  \n",
    "print(\"The P-value is: \", p_val)  \n",
    "  \n",
    "# taking the threshold value as 0.05 or 5%  \n",
    "if p_val < 0.05:      \n",
    "    print(\"We can reject the null hypothesis\")  \n",
    "else:  \n",
    "    print(\"We can accept the null hypothesis\")  "
   ]
  },
  {
   "cell_type": "markdown",
   "metadata": {},
   "source": [
    "## Paired Sampled T Test"
   ]
  },
  {
   "cell_type": "markdown",
   "metadata": {},
   "source": [
    "\n",
    "Perhaps we want to compare two related samples, e.g. a before and after test, we might use a paired T-test.\n",
    "\n"
   ]
  },
  {
   "cell_type": "markdown",
   "metadata": {},
   "source": [
    "## Example: We will measure the amount of sleep got by patients before and after taking soporific drugs to help them sleep.\n",
    "\n"
   ]
  },
  {
   "cell_type": "markdown",
   "metadata": {},
   "source": [
    "* The null hypothesis is that the soporific drug has no effect on the sleep duration of the patients.\n",
    "\n"
   ]
  },
  {
   "cell_type": "code",
   "execution_count": 32,
   "metadata": {},
   "outputs": [
    {
     "data": {
      "text/plain": [
       "Ttest_relResult(statistic=-3.6244859951782136, pvalue=0.0055329408161001415)"
      ]
     },
     "execution_count": 32,
     "metadata": {},
     "output_type": "execute_result"
    }
   ],
   "source": [
    "control = [8.0, 7.1, 6.5, 6.7, 7.2, 5.4, 4.7, 8.1, 6.3, 4.8]\n",
    "treatment = [9.9, 7.9, 7.6, 6.8, 7.1, 9.9, 10.5, 9.7, 10.9, 8.2]\n",
    "\n",
    "stats.ttest_rel(control, treatment)"
   ]
  },
  {
   "cell_type": "markdown",
   "metadata": {},
   "source": [
    "Our t-statistic value is -3.624, and along with our degrees of freedom (9) this can be used to calculate a p-value.\n",
    "\n",
    "The p-value is 0.0055, which again is below than the standard thresholds of 0.05 or 0.01, so we reject the null hypothesis and we can say there is a statistically significant difference in sleep duration caused by the soporific drug."
   ]
  },
  {
   "cell_type": "markdown",
   "metadata": {},
   "source": [
    "# One Sampled Z Test"
   ]
  },
  {
   "cell_type": "code",
   "execution_count": 33,
   "metadata": {},
   "outputs": [],
   "source": [
    "import pandas as pd"
   ]
  },
  {
   "cell_type": "code",
   "execution_count": 34,
   "metadata": {},
   "outputs": [],
   "source": [
    "#Reading the dataset\n",
    "data = pd.read_csv('Downloads/housing.csv')\n"
   ]
  },
  {
   "cell_type": "code",
   "execution_count": 35,
   "metadata": {},
   "outputs": [
    {
     "data": {
      "text/html": [
       "<div>\n",
       "<style scoped>\n",
       "    .dataframe tbody tr th:only-of-type {\n",
       "        vertical-align: middle;\n",
       "    }\n",
       "\n",
       "    .dataframe tbody tr th {\n",
       "        vertical-align: top;\n",
       "    }\n",
       "\n",
       "    .dataframe thead th {\n",
       "        text-align: right;\n",
       "    }\n",
       "</style>\n",
       "<table border=\"1\" class=\"dataframe\">\n",
       "  <thead>\n",
       "    <tr style=\"text-align: right;\">\n",
       "      <th></th>\n",
       "      <th>Avg. Area Income</th>\n",
       "      <th>Avg. Area House Age</th>\n",
       "      <th>Avg. Area Number of Rooms</th>\n",
       "      <th>Avg. Area Number of Bedrooms</th>\n",
       "      <th>Area Population</th>\n",
       "      <th>Price</th>\n",
       "      <th>Address</th>\n",
       "    </tr>\n",
       "  </thead>\n",
       "  <tbody>\n",
       "    <tr>\n",
       "      <th>0</th>\n",
       "      <td>79545.45857</td>\n",
       "      <td>5.682861</td>\n",
       "      <td>7.009188</td>\n",
       "      <td>4.09</td>\n",
       "      <td>23086.80050</td>\n",
       "      <td>1.059034e+06</td>\n",
       "      <td>208 Michael Ferry Apt. 674\\nLaurabury, NE 3701...</td>\n",
       "    </tr>\n",
       "    <tr>\n",
       "      <th>1</th>\n",
       "      <td>79248.64245</td>\n",
       "      <td>6.002900</td>\n",
       "      <td>6.730821</td>\n",
       "      <td>3.09</td>\n",
       "      <td>40173.07217</td>\n",
       "      <td>1.505891e+06</td>\n",
       "      <td>188 Johnson Views Suite 079\\nLake Kathleen, CA...</td>\n",
       "    </tr>\n",
       "    <tr>\n",
       "      <th>2</th>\n",
       "      <td>61287.06718</td>\n",
       "      <td>5.865890</td>\n",
       "      <td>8.512727</td>\n",
       "      <td>5.13</td>\n",
       "      <td>36882.15940</td>\n",
       "      <td>1.058988e+06</td>\n",
       "      <td>9127 Elizabeth Stravenue\\nDanieltown, WI 06482...</td>\n",
       "    </tr>\n",
       "    <tr>\n",
       "      <th>3</th>\n",
       "      <td>63345.24005</td>\n",
       "      <td>7.188236</td>\n",
       "      <td>5.586729</td>\n",
       "      <td>3.26</td>\n",
       "      <td>34310.24283</td>\n",
       "      <td>1.260617e+06</td>\n",
       "      <td>USS Barnett\\nFPO AP 44820</td>\n",
       "    </tr>\n",
       "    <tr>\n",
       "      <th>4</th>\n",
       "      <td>59982.19723</td>\n",
       "      <td>5.040555</td>\n",
       "      <td>7.839388</td>\n",
       "      <td>4.23</td>\n",
       "      <td>26354.10947</td>\n",
       "      <td>6.309435e+05</td>\n",
       "      <td>USNS Raymond\\nFPO AE 09386</td>\n",
       "    </tr>\n",
       "  </tbody>\n",
       "</table>\n",
       "</div>"
      ],
      "text/plain": [
       "   Avg. Area Income  Avg. Area House Age  Avg. Area Number of Rooms  \\\n",
       "0       79545.45857             5.682861                   7.009188   \n",
       "1       79248.64245             6.002900                   6.730821   \n",
       "2       61287.06718             5.865890                   8.512727   \n",
       "3       63345.24005             7.188236                   5.586729   \n",
       "4       59982.19723             5.040555                   7.839388   \n",
       "\n",
       "   Avg. Area Number of Bedrooms  Area Population         Price  \\\n",
       "0                          4.09      23086.80050  1.059034e+06   \n",
       "1                          3.09      40173.07217  1.505891e+06   \n",
       "2                          5.13      36882.15940  1.058988e+06   \n",
       "3                          3.26      34310.24283  1.260617e+06   \n",
       "4                          4.23      26354.10947  6.309435e+05   \n",
       "\n",
       "                                             Address  \n",
       "0  208 Michael Ferry Apt. 674\\nLaurabury, NE 3701...  \n",
       "1  188 Johnson Views Suite 079\\nLake Kathleen, CA...  \n",
       "2  9127 Elizabeth Stravenue\\nDanieltown, WI 06482...  \n",
       "3                          USS Barnett\\nFPO AP 44820  \n",
       "4                         USNS Raymond\\nFPO AE 09386  "
      ]
     },
     "execution_count": 35,
     "metadata": {},
     "output_type": "execute_result"
    }
   ],
   "source": [
    "data.head()"
   ]
  },
  {
   "cell_type": "code",
   "execution_count": 36,
   "metadata": {},
   "outputs": [
    {
     "data": {
      "text/plain": [
       "Index(['Avg. Area Income', 'Avg. Area House Age', 'Avg. Area Number of Rooms',\n",
       "       'Avg. Area Number of Bedrooms', 'Area Population', 'Price', 'Address'],\n",
       "      dtype='object')"
      ]
     },
     "execution_count": 36,
     "metadata": {},
     "output_type": "execute_result"
    }
   ],
   "source": [
    "data.columns"
   ]
  },
  {
   "cell_type": "markdown",
   "metadata": {},
   "source": [
    "## Example: We are testing whether the mean of house prices is 1.232073e+06 or not\n"
   ]
  },
  {
   "cell_type": "markdown",
   "metadata": {},
   "source": [
    "#### Null Hypothesis :\n",
    "The mean house prices is 1.232073e+06\n",
    "\n",
    "#### Alternate Hypothesis :- \n",
    "The mean house prices is not 1.232073e+06"
   ]
  },
  {
   "cell_type": "code",
   "execution_count": 37,
   "metadata": {},
   "outputs": [
    {
     "name": "stderr",
     "output_type": "stream",
     "text": [
      "C:\\Users\\prpou\\AppData\\Local\\Temp/ipykernel_16572/531903386.py:1: FutureWarning: Dropping of nuisance columns in DataFrame reductions (with 'numeric_only=None') is deprecated; in a future version this will raise TypeError.  Select only valid columns before calling the reduction.\n",
      "  data.mean()\n"
     ]
    },
    {
     "data": {
      "text/plain": [
       "Avg. Area Income                6.858311e+04\n",
       "Avg. Area House Age             5.977222e+00\n",
       "Avg. Area Number of Rooms       6.987792e+00\n",
       "Avg. Area Number of Bedrooms    3.981330e+00\n",
       "Area Population                 3.616352e+04\n",
       "Price                           1.232073e+06\n",
       "dtype: float64"
      ]
     },
     "execution_count": 37,
     "metadata": {},
     "output_type": "execute_result"
    }
   ],
   "source": [
    "data.mean()"
   ]
  },
  {
   "cell_type": "code",
   "execution_count": 38,
   "metadata": {},
   "outputs": [
    {
     "name": "stdout",
     "output_type": "stream",
     "text": [
      "P Value : 0.9999447414673301\n",
      "z-test value : -6.925630025777024e-05\n",
      "We fail to reject the null hypothesis\n"
     ]
    }
   ],
   "source": [
    "from statsmodels.stats import weightstats as stests\n",
    "\n",
    "#from scipy import stats\n",
    "\n",
    "ztest ,pval = stests.ztest(x1 = data['Price'], x2=None, value=1.232073e+06)\n",
    "print(\"P Value :\",float(pval))\n",
    "print(\"z-test value :\",float(ztest))\n",
    "\n",
    "if pval<0.05:\n",
    "    print(\" We reject the null hypothesis\")\n",
    "else:\n",
    "    print(\"We fail to reject the null hypothesis\")"
   ]
  },
  {
   "cell_type": "markdown",
   "metadata": {},
   "source": [
    "# Two Sampled Z Test"
   ]
  },
  {
   "cell_type": "markdown",
   "metadata": {},
   "source": [
    "## Example1: whether or not the sample means of the two groups are identical."
   ]
  },
  {
   "cell_type": "markdown",
   "metadata": {},
   "source": [
    "* H0: average of the two data groups is 0\n",
    "\n",
    "* H1: average of the two data groups is not 0"
   ]
  },
  {
   "cell_type": "code",
   "execution_count": 39,
   "metadata": {},
   "outputs": [
    {
     "name": "stdout",
     "output_type": "stream",
     "text": [
      "0.04813782199434202\n",
      "We can reject the null hypothesis\n"
     ]
    }
   ],
   "source": [
    "# Importing the required libraries  \n",
    "import pandas as pd  \n",
    "from scipy import stats  \n",
    "from statsmodels.stats import weightstats as stests  \n",
    "  \n",
    "# Creating a dataset  \n",
    "data1 = [83, 85, 86, 90, 90, 93, 93, 95, 97, 97,  \n",
    "         106, 108, 106, 108, 111, 113, 113, 112, 116, 111]  \n",
    "  \n",
    "data2 = [92, 92, 90, 93, 93, 97, 94, 98, 109, 108,  \n",
    "         110, 117, 110, 115, 114, 114, 130, 130, 149, 131]  \n",
    "  \n",
    "# Implementing the two-sample z-test   \n",
    "z_test ,p_val = stests.ztest(data1, x2 = data2, value = 0, alternative = 'two-sided')  \n",
    "print(p_val)  \n",
    "  \n",
    "# taking the threshold value as 0.05 or 5%  \n",
    "if p_val < 0.05:  \n",
    "    print(\"We can reject the null hypothesis\")  \n",
    "else:  \n",
    "    print(\"We can accept the null hypothesis\")  "
   ]
  },
  {
   "cell_type": "markdown",
   "metadata": {},
   "source": [
    "## Example2: To Check if there is an association between the price and  Avg. Area House Age"
   ]
  },
  {
   "cell_type": "code",
   "execution_count": 40,
   "metadata": {},
   "outputs": [
    {
     "name": "stdout",
     "output_type": "stream",
     "text": [
      "\n",
      "p-value 0.0\n",
      "z-score  246.71742120369345\n",
      "we reject the null hypothesis\n"
     ]
    }
   ],
   "source": [
    "zstats, pval = stests.ztest(data['Price'], data['Avg. Area House Age'], value = 0)\n",
    "print(\"\\np-value\",pval)\n",
    "print(\"z-score \",zstats)\n",
    "\n",
    "if pval <0.05:\n",
    "    print(\"we reject the null hypothesis\")\n",
    "else:\n",
    "    print(\"we fail to reject the null hypothesis\")"
   ]
  },
  {
   "cell_type": "code",
   "execution_count": null,
   "metadata": {},
   "outputs": [],
   "source": []
  },
  {
   "cell_type": "markdown",
   "metadata": {},
   "source": [
    "# One Sampled ANOVA Test"
   ]
  },
  {
   "cell_type": "markdown",
   "metadata": {},
   "source": [
    "## Example:Depending on the average similarity and f-score of two or more data groups, it may be determined if they are similar or not."
   ]
  },
  {
   "cell_type": "code",
   "execution_count": 41,
   "metadata": {},
   "outputs": [
    {
     "name": "stdout",
     "output_type": "stream",
     "text": [
      "p-value is:  0.04043792126789144\n",
      " We can reject the null hypothesis\n"
     ]
    }
   ],
   "source": [
    "# Importing the required libraries  \n",
    "import scipy.stats  \n",
    "  \n",
    "# Creating sample data  \n",
    "data1 = [0.0842, 0.0368, 0.0847, 0.0935, 0.0376, 0.0963, 0.0684,  \n",
    "             0.0758, 0.0854, 0.0855]  \n",
    "data2 = [0.0785, 0.0845, 0.0758, 0.0853, 0.0946, 0.0785, 0.0853,  \n",
    "           0.0685]  \n",
    "data3 = [0.0864, 0.2522, 0.0894, 0.2724, 0.0853, 0.1367, 0.853]  \n",
    "  \n",
    "# Performing the F-Test   \n",
    "f_test, p_val = scipy.stats.f_oneway(data1, data2, data3)  \n",
    "print(\"p-value is: \", p_val)  \n",
    "  \n",
    "# taking the threshold value as 0.05 or 5%  \n",
    "if p_val < 0.05:      \n",
    "    print(\" We can reject the null hypothesis\")  \n",
    "else:  \n",
    "    print(\"We can accept the null hypothesis\")  "
   ]
  },
  {
   "cell_type": "markdown",
   "metadata": {},
   "source": [
    "# Chi squared Test"
   ]
  },
  {
   "cell_type": "markdown",
   "metadata": {},
   "source": [
    "\n",
    "This test is used when two categorized variables are from the same population. Its purpose is to decide if the two elements are significantly associated.\n",
    "\n"
   ]
  },
  {
   "cell_type": "markdown",
   "metadata": {},
   "source": [
    "### Example"
   ]
  },
  {
   "cell_type": "markdown",
   "metadata": {},
   "source": [
    "For example, we may group people in an election campaign survey based on their preferred method of voting and gender (male or female) (Democratic, Republican, or Independent). To determine if gender affects voting choice, we may apply a chi-square test evaluating independence."
   ]
  },
  {
   "cell_type": "code",
   "execution_count": 42,
   "metadata": {},
   "outputs": [
    {
     "name": "stdout",
     "output_type": "stream",
     "text": [
      "The p-value of our test is 1.4585823594475804e-06\n",
      "We can reject the null hypothesis\n"
     ]
    }
   ],
   "source": [
    "# Importing the required modules  \n",
    "from scipy.stats import chi2_contingency  \n",
    "    \n",
    "# defining our data  \n",
    "data = [[231, 256, 321], [245, 312, 213]]  \n",
    "  \n",
    "# Performing chi-square test  \n",
    "test, p_val, dof, expected_val = chi2_contingency(data)  \n",
    "    \n",
    "# interpreting the p-value  \n",
    "alpha = 0.05  \n",
    "print(\"The p-value of our test is \" + str(p_val))  \n",
    "  \n",
    "# Checking the hypothesis  \n",
    "if p_val <= alpha:  \n",
    "    print('We can reject the null hypothesis')  \n",
    "else:  \n",
    "    print('We can accept the null hypothesis')  "
   ]
  },
  {
   "cell_type": "code",
   "execution_count": null,
   "metadata": {},
   "outputs": [],
   "source": []
  },
  {
   "cell_type": "code",
   "execution_count": null,
   "metadata": {},
   "outputs": [],
   "source": []
  }
 ],
 "metadata": {
  "kernelspec": {
   "display_name": "Python 3 (ipykernel)",
   "language": "python",
   "name": "python3"
  },
  "language_info": {
   "codemirror_mode": {
    "name": "ipython",
    "version": 3
   },
   "file_extension": ".py",
   "mimetype": "text/x-python",
   "name": "python",
   "nbconvert_exporter": "python",
   "pygments_lexer": "ipython3",
   "version": "3.9.7"
  }
 },
 "nbformat": 4,
 "nbformat_minor": 4
}
